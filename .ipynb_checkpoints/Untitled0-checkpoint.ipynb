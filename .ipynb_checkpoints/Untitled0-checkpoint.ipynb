{
 "metadata": {
  "name": "",
  "signature": "sha256:7e56fbe849ac15f58907505759d5a5f3ab95824477be2da77c2dcc7850c29a06"
 },
 "nbformat": 3,
 "nbformat_minor": 0,
 "worksheets": []
}